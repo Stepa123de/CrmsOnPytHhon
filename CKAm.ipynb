{
 "cells": [
  {
   "cell_type": "markdown",
   "id": "fecb65c4",
   "metadata": {},
   "source": [
    "## 3821Б1ПР1 Кашин Степан\n",
    "\n",
    "# 8. Плохо обусловленные матрицы\n",
    "\n",
    "Провести серию экспериментов, тестирующую команды `scipy.linalg.solve`, `numpy.linalg.cond`\n",
    "на плохо обусловленных матрицах вида\n",
    "$A=LU$, где $L$, $U$ – случайные нижняя треугольная и верхняя треугольная\n",
    "матрицы соответственно с малыми диагональными элементами.\n",
    "\n",
    "Экспериментальным путем для каждого из перечисленных классов установить\n",
    "диапазон изменения порядка матрицы, при котором число обусловленности не\n",
    "превосходит ведичины порядка $10^{16}$. Построить графики значений,\n",
    "выдаваемых функцией `scipy.linalg.cond`. Построить графики используемого этими функциями времени. Для каждой\n",
    "матрицы задать случайно решение $x$. По матрице $A$ и решению $x$\n",
    "сгенерировать правую часть системы линейных уравнений $b$. Решить систему\n",
    "$Ax=b$, используя `scipy.linalg.solve`. Построить графики относительной ошибки\n",
    "решения и невязки. Объяснить результаты."
   ]
  },
  {
   "cell_type": "markdown",
   "id": "ab66b5ac",
   "metadata": {},
   "source": [
    "Перед началом выполнения работы импортируем все неебходимые для работы библиотеки и задаём переменные которые будут использоваться на протяжение всей программы"
   ]
  },
  {
   "cell_type": "code",
   "execution_count": 40,
   "id": "0c4e39d6",
   "metadata": {},
   "outputs": [],
   "source": [
    "from numpy.linalg import cond, norm \n",
    "from scipy.linalg import solve\n",
    "import matplotlib.pyplot\n",
    "import numpy\n",
    "import time\n",
    "\n",
    "littel=10 # задает порядок малости диагональных элементов\n",
    "percCond=[] # список, в котором хранятся результаты проверки на 10^16\n",
    "condGraf=[] # список чисел обусловленности\n",
    "timeCond=[] # список, в котором хранится время выполнения функции numpy.linalg.cond\n",
    "nvList=[] # список неувязок\n",
    "misteces=[] # список относительных ошибок решения"
   ]
  },
  {
   "cell_type": "markdown",
   "id": "18d2835e",
   "metadata": {},
   "source": [
    "Импортируем функции `cornd,norm` из `numpy.linalg` теперь к ним можно обращаться напрямую (`cond, norm`), так-же `solve`\n",
    "Импортируем библиотеки `matplotlib.pyplot` и `numpy`\n",
    "\n",
    "`littel` - задает порядок малости диагональных элементов \n",
    "\n",
    "`percCond` - список, в котором хранятся результаты проверки на >$10^{16}$\n",
    "\n",
    "`condGraf` - список чисел обусловленности\n",
    "\n",
    "\n",
    "`timeCond` - список, в котором хранится время выполнения функции `numpy.linalg.cond`\n",
    "\n",
    "`nvList` - список неувязок\n",
    "\n",
    "`misteces` - список относительных ошибок решения"
   ]
  },
  {
   "cell_type": "markdown",
   "id": "fdbd6249",
   "metadata": {},
   "source": [
    "Проведём исследование на матрицах n порадка где n $1\\le n\n",
    "\\le 9$. Программа будет генерировать треугольные матрицы $U$,$L$,диоганальные элементы в которых будут маыми, поэтому разделим эти элементы на некую величину. После этого мы получим матрицу через произведение матриц $L$ и $U$ `A=L.dot(U)`. \n",
    "\n",
    "После получение матрицы $A$ оцениваем время работы `numpy.linalg.cond`и порядок числа обусловленности.\n",
    "\n",
    "Далее Формируется вектор $B$ на основе соотношения $AX=B$  `b=a.dot(x)`, где $X$ - случайно сгенерированный вектор.\n"
   ]
  },
  {
   "cell_type": "code",
   "execution_count": 41,
   "id": "9929d5b4",
   "metadata": {},
   "outputs": [
    {
     "name": "stderr",
     "output_type": "stream",
     "text": [
      "C:\\Users\\BD9E~1\\AppData\\Local\\Temp/ipykernel_21968/2196005549.py:31: LinAlgWarning: Ill-conditioned matrix (rcond=3.07958e-17): result may not be accurate.\n",
      "  X1=solve(A,B)\n",
      "C:\\Users\\BD9E~1\\AppData\\Local\\Temp/ipykernel_21968/2196005549.py:31: LinAlgWarning: Ill-conditioned matrix (rcond=3.78554e-19): result may not be accurate.\n",
      "  X1=solve(A,B)\n",
      "C:\\Users\\BD9E~1\\AppData\\Local\\Temp/ipykernel_21968/2196005549.py:31: LinAlgWarning: Ill-conditioned matrix (rcond=1.26619e-20): result may not be accurate.\n",
      "  X1=solve(A,B)\n"
     ]
    }
   ],
   "source": [
    "for N in range(1, 10):\n",
    "    U = numpy.triu(numpy.random.rand(N, N))\n",
    "    L = numpy.tril(numpy.random.rand(N, N))\n",
    "    \n",
    "    for i in range(N):\n",
    "        U[i][i] = U[i][i] / littel\n",
    "        L[i][i] = L[i][i] / littel\n",
    "        \n",
    "    A = L.dot(U)\n",
    "    \n",
    "    \n",
    "    FirstTime = time.time() #засекаем время на начало работы numpy.linalg.cond\n",
    "    \n",
    "    for i in range(10**3):\n",
    "        cond_a=cond(A)\n",
    "        \n",
    "    RealTime=time.time()-FirstTime # получаем время работы numpy.linalg.cond вычив из текущего времени время на начало работы numpy.linalg.cond  \n",
    "    timeCond.append(RealTime)\n",
    "    \n",
    "    # Оцениваем порядок числа обусловленности\n",
    "    if cond_a>10**16:\n",
    "        percCond.append(\"{} -> Превосходит\".format(N))\n",
    "    else:\n",
    "        percCond.append(\"{} -> Не превосходит\".format(N))    \n",
    "    condGraf.append(cond_a)#Число обусловленности print(cond_a) \n",
    "    \n",
    "    \n",
    "    X=numpy.random.rand(N) #Генирируем случайное решение X\n",
    "    B=A.dot(X)\n",
    "    \n",
    "    X1=solve(A,B)\n",
    "    \n",
    "    norm_nvList=norm(X1-X)\n",
    "    nvList.append(norm_nvList)\n",
    "    norm_misteces=norm_nvList/norm(X)\n",
    "    misteces.append(norm_misteces)   "
   ]
  },
  {
   "cell_type": "markdown",
   "id": "494d5161",
   "metadata": {},
   "source": [
    "Оценим превосходство числа $10^{16}$"
   ]
  },
  {
   "cell_type": "code",
   "execution_count": 42,
   "id": "28b5dde3",
   "metadata": {},
   "outputs": [
    {
     "name": "stdout",
     "output_type": "stream",
     "text": [
      "['1 -> Не превосходит', '2 -> Не превосходит', '3 -> Не превосходит', '4 -> Не превосходит', '5 -> Не превосходит', '6 -> Не превосходит', '7 -> Превосходит', '8 -> Превосходит', '9 -> Превосходит']\n"
     ]
    }
   ],
   "source": [
    "print(percCond) "
   ]
  },
  {
   "cell_type": "markdown",
   "id": "0dbb092c",
   "metadata": {},
   "source": [
    "1) График чисел обусловленности `condGraf`.\n",
    "\n",
    "2) График относительная ошибок `misteces`.\n",
    "\n",
    "3) График временной зависимости `timeCond`.\n",
    "\n",
    "4) График невязки `nvList`"
   ]
  },
  {
   "cell_type": "code",
   "execution_count": 43,
   "id": "b612dc74",
   "metadata": {},
   "outputs": [
    {
     "data": {
      "text/plain": [
       "[<matplotlib.lines.Line2D at 0x28bf0f596d0>]"
      ]
     },
     "execution_count": 43,
     "metadata": {},
     "output_type": "execute_result"
    },
    {
     "data": {
      "image/png": "[encoded data removed]",
      "text/plain": [
       "<Figure size 432x288 with 1 Axes>"
      ]
     },
     "metadata": {
      "needs_background": "light"
     },
     "output_type": "display_data"
    }
   ],
   "source": [
    "Xline=list(range(1,10))\n",
    "matplotlib.pyplot.title('Состояние')\n",
    "matplotlib.pyplot.loglog(Xline, condGraf)"
   ]
  },
  {
   "cell_type": "markdown",
   "id": "6e587006",
   "metadata": {},
   "source": [
    "2) Построим график относительной ошибки решения. Мы видим, что график относительных ошибок решения, является показательной функцией относительно порядка матрицы"
   ]
  },
  {
   "cell_type": "code",
   "execution_count": 44,
   "id": "bda1d7cd",
   "metadata": {},
   "outputs": [
    {
     "data": {
      "text/plain": [
       "[<matplotlib.lines.Line2D at 0x28bf1068640>]"
      ]
     },
     "execution_count": 44,
     "metadata": {},
     "output_type": "execute_result"
    },
    {
     "data": {
      "image/png": "[encoded data removed]",
      "text/plain": [
       "<Figure size 432x288 with 1 Axes>"
      ]
     },
     "metadata": {
      "needs_background": "light"
     },
     "output_type": "display_data"
    }
   ],
   "source": [
    "matplotlib.pyplot.title('график относительная ошибки')\n",
    "matplotlib.pyplot.loglog(Xline,misteces)"
   ]
  },
  {
   "cell_type": "markdown",
   "id": "7aa4f547",
   "metadata": {},
   "source": [
    "3) Построим график зависимости времении `timeCond` выполнения функции `numpy.linalg.cond` к порядоку матрицы. При рассмотрении графика можно заметить линейную зависимость."
   ]
  },
  {
   "cell_type": "code",
   "execution_count": 45,
   "id": "b984b27e",
   "metadata": {},
   "outputs": [
    {
     "data": {
      "text/plain": [
       "[<matplotlib.lines.Line2D at 0x28bf11a5c70>]"
      ]
     },
     "execution_count": 45,
     "metadata": {},
     "output_type": "execute_result"
    },
    {
     "data": {
      "image/png": "[encoded data removed]",
      "text/plain": [
       "<Figure size 432x288 with 1 Axes>"
      ]
     },
     "metadata": {
      "needs_background": "light"
     },
     "output_type": "display_data"
    }
   ],
   "source": [
    "matplotlib.pyplot.title('график временной зависимости')\n",
    "matplotlib.pyplot.plot(Xline, timeCond)"
   ]
  },
  {
   "cell_type": "markdown",
   "id": "0a9853af",
   "metadata": {},
   "source": [
    "4)Построим график функция невязки `nvList`. Из графика мы видим, что невязка `nvList`, является показательной функцией относительно порядка матрицы и в точности посторяет график относительных ошибок `misteces`."
   ]
  },
  {
   "cell_type": "code",
   "execution_count": 47,
   "id": "edebd953",
   "metadata": {},
   "outputs": [
    {
     "data": {
      "text/plain": [
       "[<matplotlib.lines.Line2D at 0x28befe5ee80>]"
      ]
     },
     "execution_count": 47,
     "metadata": {},
     "output_type": "execute_result"
    },
    {
     "data": {
      "image/png": "[encoded data removed]",
      "text/plain": [
       "<Figure size 432x288 with 1 Axes>"
      ]
     },
     "metadata": {
      "needs_background": "light"
     },
     "output_type": "display_data"
    }
   ],
   "source": [
    "matplotlib.pyplot.title('График невязки')\n",
    "matplotlib.pyplot.loglog(Xline, nvList)"
   ]
  }
 ],
 "metadata": {
  "kernelspec": {
   "display_name": "Python 3 (ipykernel)",
   "language": "python",
   "name": "python3"
  },
  "language_info": {
   "codemirror_mode": {
    "name": "ipython",
    "version": 3
   },
   "file_extension": ".py",
   "mimetype": "text/x-python",
   "name": "python",
   "nbconvert_exporter": "python",
   "pygments_lexer": "ipython3",
   "version": "3.9.7"
  }
 },
 "nbformat": 4,
 "nbformat_minor": 5
}
