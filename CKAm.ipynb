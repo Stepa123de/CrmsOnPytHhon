{
 "cells": [
  {
   "cell_type": "markdown",
   "id": "fecb65c4",
   "metadata": {},
   "source": [
    "## 3821Б1ПР1 Кашин Степан\n",
    "\n",
    "# 8. Плохо обусловленные матрицы\n",
    "\n",
    "Провести серию экспериментов, тестирующую команды `scipy.linalg.solve`, `numpy.linalg.cond`\n",
    "на плохо обусловленных матрицах вида\n",
    "$A=LU$, где $L$, $U$ – случайные нижняя треугольная и верхняя треугольная\n",
    "матрицы соответственно с малыми диагональными элементами.\n",
    "\n",
    "Экспериментальным путем для каждого из перечисленных классов установить\n",
    "диапазон изменения порядка матрицы, при котором число обусловленности не\n",
    "превосходит ведичины порядка $10^{16}$. Построить графики значений,\n",
    "выдаваемых функцией `scipy.linalg.cond`. Построить графики используемого этими функциями времени. Для каждой\n",
    "матрицы задать случайно решение $x$. По матрице $A$ и решению $x$\n",
    "сгенерировать правую часть системы линейных уравнений $b$. Решить систему\n",
    "$Ax=b$, используя `scipy.linalg.solve`. Построить графики относительной ошибки\n",
    "решения и невязки. Объяснить результаты."
   ]
  },
  {
   "cell_type": "markdown",
   "id": "ab66b5ac",
   "metadata": {},
   "source": [
    "Перед началом выполнения работы импортируем все неебходимые для работы библиотеки."
   ]
  },
  {
   "cell_type": "code",
   "execution_count": 31,
   "id": "0c4e39d6",
   "metadata": {},
   "outputs": [],
   "source": [
    "from numpy.linalg import cond, norm \n",
    "from scipy.linalg import solve\n",
    "import matplotlib.pyplot\n",
    "import numpy\n",
    "import time"
   ]
  },
  {
   "cell_type": "markdown",
   "id": "e838d8e4",
   "metadata": {},
   "source": [
    "Импортируем функции `cornd,norm` из `numpy.linalg` теперь к ним можно обращаться напрямую (`cond, norm`), так-же `solve`\n",
    "Импортируем библиотеки `matplotlib.pyplot` и `numpy`"
   ]
  },
  {
   "cell_type": "markdown",
   "id": "372de58e",
   "metadata": {},
   "source": [
    "Задаём переменные которые будут использоваться на протяжение всей программы"
   ]
  },
  {
   "cell_type": "code",
   "execution_count": 32,
   "id": "a7a6912b",
   "metadata": {},
   "outputs": [],
   "source": [
    "littel=10\n",
    "percCond=[]\n",
    "condGraf=[]\n",
    "timeCond=[]\n",
    "nvList=[]\n",
    "misteces=[]"
   ]
  },
  {
   "cell_type": "markdown",
   "id": "18d2835e",
   "metadata": {},
   "source": [
    "`littel` - задает порядок малости диагональных элементов \n",
    "\n",
    "`percCond` - список, в котором хранятся результаты проверки на >$10^{16}$\n",
    "\n",
    "`condGraf` - список чисел обусловленности\n",
    "\n",
    "\n",
    "`timeCond` - список, в котором хранится время выполнения функции `numpy.linalg.cond`\n",
    "\n",
    "`nvList` - список неувязок\n",
    "\n",
    "`misteces` - тут хранится список относительных ошибок решения"
   ]
  },
  {
   "cell_type": "markdown",
   "id": "fdbd6249",
   "metadata": {},
   "source": [
    "Проведём исследование на матрицах n порадка где n $1\\le n\n",
    "\\le 9$. Программа будет генерировать треугольные матрицы $U$,$L$,диоганальные элементы в которых будут маыми, поэтому разделим эти элементы на некую величину. После этого мы получим матрицу через произведение матриц $L$ и $U$ `A=L.dot(U)`. \n",
    "\n",
    "После получение матрицы $A$ оцениваем время работы `numpy.linalg.cond`и порядок числа обусловленности.\n",
    "\n",
    "Далее Формируется вектор $B$ на основе соотношения $AX=B$  `b=a.dot(x)`, где $X$ - случайно сгенерированный вектор.\n"
   ]
  },
  {
   "cell_type": "code",
   "execution_count": 33,
   "id": "9929d5b4",
   "metadata": {},
   "outputs": [
    {
     "name": "stderr",
     "output_type": "stream",
     "text": [
      "C:\\Users\\BD9E~1\\AppData\\Local\\Temp/ipykernel_1908/1065451764.py:32: LinAlgWarning: Ill-conditioned matrix (rcond=1.44605e-17): result may not be accurate.\n",
      "  X1=solve(A,B)\n"
     ]
    }
   ],
   "source": [
    "for N in range(1, 10):\n",
    "    U = numpy.triu(numpy.random.rand(N, N))\n",
    "    L = numpy.tril(numpy.random.rand(N, N))\n",
    "    \n",
    "    for i in range(N):\n",
    "        U[i][i] = U[i][i] / littel\n",
    "        L[i][i] = L[i][i] / littel\n",
    "        \n",
    "    A = L.dot(U)\n",
    "    \n",
    "    \n",
    "    FirstTime = time.time() #засекаем время на начало работы numpy.linalg.cond\n",
    "    \n",
    "    for i in range(10**3):\n",
    "        cond_a=cond(A)\n",
    "        \n",
    "    RealTime=time.time()-FirstTime # получаем время работы numpy.linalg.cond вычив из текущего времени время на начало работы numpy.linalg.cond  \n",
    "    timeCond.append(RealTime)\n",
    "    \n",
    "    # Оцениваем порядок числа обусловленности\n",
    "    if cond_a>10**16:\n",
    "        percCond.append(\"{} -> Превосходит\".format(N))\n",
    "    else:\n",
    "        percCond.append(\"{} -> Не превосходит\".format(N))    \n",
    "    condGraf.append(cond_a)\n",
    "    #Число обусловленности print(cond_a) \n",
    "    \n",
    "    \n",
    "    X=numpy.random.rand(N) #Генирируем случайное решение X\n",
    "    B=A.dot(X)\n",
    "    \n",
    "    X1=solve(A,B)\n",
    "    \n",
    "    norm_nvList=norm(X1-X)\n",
    "    nvList.append(norm_nvList)\n",
    "    norm_misteces=norm_nvList/norm(X)\n",
    "    misteces.append(norm_misteces)   "
   ]
  },
  {
   "cell_type": "markdown",
   "id": "31de8cfd",
   "metadata": {},
   "source": [
    "Оценим превосходство числа $10^{16}$"
   ]
  },
  {
   "cell_type": "code",
   "execution_count": 34,
   "id": "28b5dde3",
   "metadata": {},
   "outputs": [
    {
     "name": "stdout",
     "output_type": "stream",
     "text": [
      "['1 -> Не превосходит', '2 -> Не превосходит', '3 -> Не превосходит', '4 -> Не превосходит', '5 -> Не превосходит', '6 -> Не превосходит', '7 -> Не превосходит', '8 -> Превосходит', '9 -> Не превосходит']\n"
     ]
    }
   ],
   "source": [
    "print(percCond) "
   ]
  },
  {
   "cell_type": "code",
   "execution_count": 38,
   "id": "b612dc74",
   "metadata": {},
   "outputs": [
    {
     "data": {
      "text/plain": [
       "Text(0.5, 1.0, 'Condition')"
      ]
     },
     "execution_count": 38,
     "metadata": {},
     "output_type": "execute_result"
    },
    {
     "data": {
      "image/png": "[encoded data removed]",
      "text/plain": [
       "<Figure size 432x288 with 1 Axes>"
      ]
     },
     "metadata": {
      "needs_background": "light"
     },
     "output_type": "display_data"
    }
   ],
   "source": [
    "Xline=list(range(1,10))\n",
    "matplotlib.pyplot.loglog(Xline, condGraf)\n",
    "matplotlib.pyplot.title('Condition')"
   ]
  },
  {
   "cell_type": "code",
   "execution_count": null,
   "id": "fd3794d3",
   "metadata": {},
   "outputs": [],
   "source": []
  }
 ],
 "metadata": {
  "kernelspec": {
   "display_name": "Python 3 (ipykernel)",
   "language": "python",
   "name": "python3"
  },
  "language_info": {
   "codemirror_mode": {
    "name": "ipython",
    "version": 3
   },
   "file_extension": ".py",
   "mimetype": "text/x-python",
   "name": "python",
   "nbconvert_exporter": "python",
   "pygments_lexer": "ipython3",
   "version": "3.9.7"
  }
 },
 "nbformat": 4,
 "nbformat_minor": 5
}
